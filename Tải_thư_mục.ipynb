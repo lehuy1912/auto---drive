{
  "nbformat": 4,
  "nbformat_minor": 0,
  "metadata": {
    "colab": {
      "provenance": [],
      "toc_visible": true,
      "authorship_tag": "ABX9TyO2udcJgERzRlK8qnHO11WR",
      "include_colab_link": true
    },
    "kernelspec": {
      "name": "python3",
      "display_name": "Python 3"
    },
    "language_info": {
      "name": "python"
    }
  },
  "cells": [
    {
      "cell_type": "markdown",
      "metadata": {
        "id": "view-in-github",
        "colab_type": "text"
      },
      "source": [
        "<a href=\"https://colab.research.google.com/github/lehuy1912/auto---drive/blob/main/T%E1%BA%A3i_th%C6%B0_m%E1%BB%A5c.ipynb\" target=\"_parent\"><img src=\"https://colab.research.google.com/assets/colab-badge.svg\" alt=\"Open In Colab\"/></a>"
      ]
    },
    {
      "cell_type": "code",
      "execution_count": null,
      "metadata": {
        "colab": {
          "base_uri": "https://localhost:8080/"
        },
        "id": "lQohHI3IF-mo",
        "outputId": "6b402c77-cf37-43c3-9a6a-94f708be0091"
      },
      "outputs": [
        {
          "output_type": "stream",
          "name": "stdout",
          "text": [
            "Mounted at /content/drive\n"
          ]
        }
      ],
      "source": [
        "from google.colab import drive\n",
        "\n",
        "drive.mount('/content/drive', force_remount=True)"
      ]
    },
    {
      "cell_type": "code",
      "source": [
        "# Cài gdown (hỗ trợ copy cả folder)\n",
        "!pip install -U gdown"
      ],
      "metadata": {
        "colab": {
          "base_uri": "https://localhost:8080/"
        },
        "id": "R8guk1FdHBli",
        "outputId": "266f3a7a-4c85-4976-c091-1889c3beeec1"
      },
      "execution_count": null,
      "outputs": [
        {
          "output_type": "stream",
          "name": "stdout",
          "text": [
            "Requirement already satisfied: gdown in /usr/local/lib/python3.12/dist-packages (5.2.0)\n",
            "Requirement already satisfied: beautifulsoup4 in /usr/local/lib/python3.12/dist-packages (from gdown) (4.13.5)\n",
            "Requirement already satisfied: filelock in /usr/local/lib/python3.12/dist-packages (from gdown) (3.19.1)\n",
            "Requirement already satisfied: requests[socks] in /usr/local/lib/python3.12/dist-packages (from gdown) (2.32.4)\n",
            "Requirement already satisfied: tqdm in /usr/local/lib/python3.12/dist-packages (from gdown) (4.67.1)\n",
            "Requirement already satisfied: soupsieve>1.2 in /usr/local/lib/python3.12/dist-packages (from beautifulsoup4->gdown) (2.8)\n",
            "Requirement already satisfied: typing-extensions>=4.0.0 in /usr/local/lib/python3.12/dist-packages (from beautifulsoup4->gdown) (4.15.0)\n",
            "Requirement already satisfied: charset_normalizer<4,>=2 in /usr/local/lib/python3.12/dist-packages (from requests[socks]->gdown) (3.4.3)\n",
            "Requirement already satisfied: idna<4,>=2.5 in /usr/local/lib/python3.12/dist-packages (from requests[socks]->gdown) (3.10)\n",
            "Requirement already satisfied: urllib3<3,>=1.21.1 in /usr/local/lib/python3.12/dist-packages (from requests[socks]->gdown) (2.5.0)\n",
            "Requirement already satisfied: certifi>=2017.4.17 in /usr/local/lib/python3.12/dist-packages (from requests[socks]->gdown) (2025.8.3)\n",
            "Requirement already satisfied: PySocks!=1.5.7,>=1.5.6 in /usr/local/lib/python3.12/dist-packages (from requests[socks]->gdown) (1.7.1)\n"
          ]
        }
      ]
    },
    {
      "cell_type": "code",
      "source": [
        "!sudo cp -av -n \"https://drive.google.com/drive/u/0/folders/1ii1BZDipM0FCxwFBVWTIQ_qaVTabXqYn\" \"/content/drive/MyDrive\""
      ],
      "metadata": {
        "colab": {
          "base_uri": "https://localhost:8080/"
        },
        "id": "h9_dc9bOGZIl",
        "outputId": "b2174fd0-5d45-439c-f885-ca45b09d14c2"
      },
      "execution_count": null,
      "outputs": [
        {
          "output_type": "stream",
          "name": "stdout",
          "text": [
            "cp: cannot stat 'https://drive.google.com/drive/u/0/folders/1ii1BZDipM0FCxwFBVWTIQ_qaVTabXqYn': No such file or directory\n"
          ]
        }
      ]
    },
    {
      "cell_type": "code",
      "source": [
        "# === Thay link folder share ở đây ===\n",
        "folder_url = \"https://drive.google.com/drive/folders/1UimnxlaELqSl_9Vf0f5K56odRLQTAPMe\"\n",
        "\n",
        "# Thư mục đích trong Drive của bạn (MyDrive)\n",
        "output_dir = \"/content/drive/MyDrive/\"\n",
        "\n",
        "# Chạy lệnh copy toàn bộ thư mục share vào Drive\n",
        "!gdown --folder {folder_url} -O \"{output_dir}\""
      ],
      "metadata": {
        "colab": {
          "base_uri": "https://localhost:8080/"
        },
        "id": "aG-VsDucHF7Z",
        "outputId": "a163e4eb-5a24-41d7-8081-15505da40803"
      },
      "execution_count": null,
      "outputs": [
        {
          "output_type": "stream",
          "name": "stdout",
          "text": [
            "Retrieving folder contents\n",
            "Retrieving folder 1_IsrRGs8cEwWOyOrxw1Vl5yA1GUlLH-q 101 BÀI TEST IELTS LISTENING +ANSWER KEYS\n",
            "Processing file 1mn-_TefA4TeAWy99XIZdFcPs73ezQbao 101 BÀI TEST IELTS LISTENING.pdf\n",
            "Processing file 1EC3mXnsao1vdTlHmka5wm5yEg2KHJmW4 FILE NGHE 101 BÀI TEST IELTS LISTENING.docx\n",
            "Retrieving folder 11NxNpgPh1HHxqdwFfnP06mPM_zDIV622 550 BÀI ĐỌC HIỂU-ĐỌC ĐIỀN TIẾNG ANH\n",
            "Processing file 1j3gEDSGOjZnE-3KKpap5BYeWZ5Wqf_Ka 550 BÀI ĐỌC HIỂU-ĐỌC ĐIỀN TIẾNG ANH.docx\n",
            "Retrieving folder 1nrmOVONtY0S92HdrFUgQEvgO9cbzR4CH BỘ 10 ĐỀ LISTENING + ĐÁP ÁN\n",
            "Processing file 15KmH0F1uW-Rn3CietVgCkhkP2XIJEX0b BỘ 10 ĐỀ LISTENING.docx\n",
            "Retrieving folder 1X9p_ek_vqdEvSb2lAGeFuiAyTPIVPnul CHIA SẺ KHÓA PRO3M PLUS CÔ MAI PHƯƠNG - PLUS 1 - LUYỆN TỪ VỰNG\n",
            "Processing file 1l0C18WyxjN2-Q-K88vmxB_ApkCRKXQbx CHIA SẺ KHÓA PRO3M PLUS CÔ MAI PHƯƠNG - PLUS 1 - LUYỆN TỪ VỰNG.docx\n",
            "Retrieving folder 1hNEo5p8PhFQNUSqD5y1HXN3G-sVHCh_I ĐỀ THI IELTS READING\n",
            "Processing file 13PnK30GtuQ2PHIxqhmN7VZl6u0XzH5cn ĐỀ THI IELTS READING.docx\n",
            "Retrieving folder 1x4mdkm-oyq4tqtspkIB1seN66MMfg4aP LỘ TRÌNH TỰ HỌC IELTS 0-7.5\n",
            "Processing file 182AK6G1SDgZs2utP_wNKLqwN1SRdgyV0 LỘ TRÌNH TỰ HỌC IELTS TỪ 0-7.5.docx\n",
            "Retrieving folder 1cfrZXGbbd2YPUkklhubOAsJuhxCzTSwk QUAN TRỌNG: KHO TÀI LIỆU IELTS - TỔNG HỢP-FULL\n",
            "Processing file 1MDRNR7OeCUXve872HYzpfVLgHhZ_9wB_ KHO TÀI LIỆU IELTS - TỔNG HỢP-FULL.docx\n",
            "Retrieving folder 10vhKD7GVRag8F95RdSFxHkDnxVBlt-v1 TÀI LIỆU IELTS 4 KỸ NĂNG\n",
            "Processing file 1oPEmMAKA7ptG21J7roSVIdoCOyew9L_r TÀI LIỆU IELTS 4 KỸ NĂNG.docx\n",
            "Retrieving folder 1vQTR-gEs75cxkio4Pc7t6Djb3zWzmz2G TỔNG HỢP TỪ VỰNG TRỌNG ĐIỂM \n",
            "Processing file 1UCPGwmhe-1WgWdvIQhmLt4m6UA3Jacv4 [ Cô Vũ Mai Phương ] Tổng hợp Từ vựng trọng điểm (Từ vựng SGK + Collocation + Phrasal verb+ Từ vựng Trường - Sở thi thử 2025) thi THPT & ĐGNL 2025.pdf\n",
            "Retrieving folder 1LBSt4vzLUHe4DqC4fllnAUbAOmjobdmw WEB TEST TRÌNH ĐỘ ENGLISH\n",
            "Processing file 1VTMaiN-taQB6TLa9WC6CiU_3x4yCg-3o WEB TEST TRÌNH ĐỘ TIẾNG ANH.docx\n",
            "Retrieving folder contents completed\n",
            "Building directory structure\n",
            "Building directory structure completed\n",
            "Downloading...\n",
            "From: https://drive.google.com/uc?id=1mn-_TefA4TeAWy99XIZdFcPs73ezQbao\n",
            "To: /content/drive/MyDrive/KHÓA IELTS/101 BÀI TEST IELTS LISTENING +ANSWER KEYS/101 BÀI TEST IELTS LISTENING.pdf\n",
            "100% 9.68M/9.68M [00:00<00:00, 22.4MB/s]\n",
            "Downloading...\n",
            "From: https://drive.google.com/uc?id=1EC3mXnsao1vdTlHmka5wm5yEg2KHJmW4\n",
            "To: /content/drive/MyDrive/KHÓA IELTS/101 BÀI TEST IELTS LISTENING +ANSWER KEYS/FILE NGHE 101 BÀI TEST IELTS LISTENING.docx\n",
            "100% 14.1k/14.1k [00:00<00:00, 23.1MB/s]\n",
            "Downloading...\n",
            "From: https://drive.google.com/uc?id=1j3gEDSGOjZnE-3KKpap5BYeWZ5Wqf_Ka\n",
            "To: /content/drive/MyDrive/KHÓA IELTS/550 BÀI ĐỌC HIỂU-ĐỌC ĐIỀN TIẾNG ANH/550 BÀI ĐỌC HIỂU-ĐỌC ĐIỀN TIẾNG ANH.docx\n",
            "100% 14.4k/14.4k [00:00<00:00, 26.3MB/s]\n",
            "Downloading...\n",
            "From: https://drive.google.com/uc?id=15KmH0F1uW-Rn3CietVgCkhkP2XIJEX0b\n",
            "To: /content/drive/MyDrive/KHÓA IELTS/BỘ 10 ĐỀ LISTENING + ĐÁP ÁN/BỘ 10 ĐỀ LISTENING.docx\n",
            "100% 140k/140k [00:00<00:00, 43.8MB/s]\n",
            "Downloading...\n",
            "From: https://drive.google.com/uc?id=1l0C18WyxjN2-Q-K88vmxB_ApkCRKXQbx\n",
            "To: /content/drive/MyDrive/KHÓA IELTS/CHIA SẺ KHÓA PRO3M PLUS CÔ MAI PHƯƠNG - PLUS 1 - LUYỆN TỪ VỰNG/CHIA SẺ KHÓA PRO3M PLUS CÔ MAI PHƯƠNG - PLUS 1 - LUYỆN TỪ VỰNG.docx\n",
            "100% 14.2k/14.2k [00:00<00:00, 24.8MB/s]\n",
            "Downloading...\n",
            "From: https://drive.google.com/uc?id=13PnK30GtuQ2PHIxqhmN7VZl6u0XzH5cn\n",
            "To: /content/drive/MyDrive/KHÓA IELTS/ĐỀ THI IELTS READING/ĐỀ THI IELTS READING.docx\n",
            "100% 140k/140k [00:00<00:00, 47.2MB/s]\n",
            "Downloading...\n",
            "From: https://drive.google.com/uc?id=182AK6G1SDgZs2utP_wNKLqwN1SRdgyV0\n",
            "To: /content/drive/MyDrive/KHÓA IELTS/LỘ TRÌNH TỰ HỌC IELTS 0-7.5/LỘ TRÌNH TỰ HỌC IELTS TỪ 0-7.5.docx\n",
            "100% 14.2k/14.2k [00:00<00:00, 40.2MB/s]\n",
            "Downloading...\n",
            "From: https://drive.google.com/uc?id=1MDRNR7OeCUXve872HYzpfVLgHhZ_9wB_\n",
            "To: /content/drive/MyDrive/KHÓA IELTS/QUAN TRỌNG: KHO TÀI LIỆU IELTS - TỔNG HỢP-FULL/KHO TÀI LIỆU IELTS - TỔNG HỢP-FULL.docx\n",
            "100% 14.2k/14.2k [00:00<00:00, 55.8MB/s]\n",
            "Downloading...\n",
            "From: https://drive.google.com/uc?id=1oPEmMAKA7ptG21J7roSVIdoCOyew9L_r\n",
            "To: /content/drive/MyDrive/KHÓA IELTS/TÀI LIỆU IELTS 4 KỸ NĂNG/TÀI LIỆU IELTS 4 KỸ NĂNG.docx\n",
            "100% 139k/139k [00:00<00:00, 45.4MB/s]\n",
            "Downloading...\n",
            "From: https://drive.google.com/uc?id=1UCPGwmhe-1WgWdvIQhmLt4m6UA3Jacv4\n",
            "To: /content/drive/MyDrive/KHÓA IELTS/TỔNG HỢP TỪ VỰNG TRỌNG ĐIỂM /[ Cô Vũ Mai Phương ] Tổng hợp Từ vựng trọng điểm (Từ vựng SGK + Collocation + Phrasal verb+ Từ vựng Trường - Sở thi thử 2025) thi THPT & ĐGNL 2025.pdf\n",
            "100% 1.78M/1.78M [00:00<00:00, 106MB/s]\n",
            "Downloading...\n",
            "From: https://drive.google.com/uc?id=1VTMaiN-taQB6TLa9WC6CiU_3x4yCg-3o\n",
            "To: /content/drive/MyDrive/KHÓA IELTS/WEB TEST TRÌNH ĐỘ ENGLISH/WEB TEST TRÌNH ĐỘ TIẾNG ANH.docx\n",
            "100% 14.6k/14.6k [00:00<00:00, 42.4MB/s]\n",
            "Download completed\n"
          ]
        }
      ]
    }
  ]
}