{
  "nbformat": 4,
  "nbformat_minor": 0,
  "metadata": {
    "colab": {
      "provenance": [],
      "authorship_tag": "ABX9TyNtfPxSbDDX8o/a7yUqmB44",
      "include_colab_link": true
    },
    "kernelspec": {
      "name": "python3",
      "display_name": "Python 3"
    },
    "language_info": {
      "name": "python"
    }
  },
  "cells": [
    {
      "cell_type": "markdown",
      "metadata": {
        "id": "view-in-github",
        "colab_type": "text"
      },
      "source": [
        "<a href=\"https://colab.research.google.com/github/lehuy1912/auto---drive/blob/main/delete_file_duplicate_on_drive.ipynb\" target=\"_parent\"><img src=\"https://colab.research.google.com/assets/colab-badge.svg\" alt=\"Open In Colab\"/></a>"
      ]
    },
    {
      "cell_type": "code",
      "source": [
        "import os\n",
        "import re\n",
        "import hashlib\n",
        "from google.colab import drive\n",
        "\n",
        "# Gắn Google Drive\n",
        "drive.mount('/content/drive')\n",
        "\n",
        "# Thư mục cần kiểm tra\n",
        "folder_path = \"/content/drive/MyDrive/PC\"  # đổi thành thư mục của bạn"
      ],
      "metadata": {
        "colab": {
          "base_uri": "https://localhost:8080/"
        },
        "id": "HpUYdmjFZCo7",
        "outputId": "882af2a0-b134-4198-f249-709ee3869f9b"
      },
      "execution_count": 2,
      "outputs": [
        {
          "output_type": "stream",
          "name": "stdout",
          "text": [
            "Drive already mounted at /content/drive; to attempt to forcibly remount, call drive.mount(\"/content/drive\", force_remount=True).\n"
          ]
        }
      ]
    },
    {
      "cell_type": "code",
      "source": [
        "def normalize_filename(name):\n",
        "    \"\"\"\n",
        "    Chuẩn hóa tên file: bỏ hậu tố _1, _2, (1), (2), ...\n",
        "    Ví dụ: book.pdf, book_1.pdf, book(2).pdf -> book.pdf\n",
        "    \"\"\"\n",
        "    name = re.sub(r'(_\\d+|\\(\\d+\\))(?=\\.[^.]+$)', '', name)\n",
        "    return name.lower()\n",
        "def file_hash(filepath):\n",
        "    \"\"\"Tính hash MD5 để so sánh nội dung file\"\"\"\n",
        "    hash_md5 = hashlib.md5()\n",
        "    with open(filepath, \"rb\") as f:\n",
        "        for chunk in iter(lambda: f.read(4096), b\"\"):\n",
        "            hash_md5.update(chunk)\n",
        "    return hash_md5.hexdigest()\n"
      ],
      "metadata": {
        "id": "qyZS_HZbZsFK"
      },
      "execution_count": 3,
      "outputs": []
    },
    {
      "cell_type": "code",
      "source": [],
      "metadata": {
        "id": "GFDYrcfUaZmD"
      },
      "execution_count": null,
      "outputs": []
    },
    {
      "cell_type": "code",
      "source": [
        "from tqdm import tqdm"
      ],
      "metadata": {
        "id": "cqQdUTgQaVn8"
      },
      "execution_count": 7,
      "outputs": []
    },
    {
      "cell_type": "code",
      "source": [
        "# Bỏ qua file Google shortcut\n",
        "ignore_ext = {\".gsheet\", \".gdoc\", \".gslides\"}\n",
        "\n",
        "# Đếm tổng số file trước\n",
        "all_files = []\n",
        "for root, _, files in os.walk(folder_path):\n",
        "    for filename in files:\n",
        "        ext = os.path.splitext(filename)[1].lower()\n",
        "        if ext not in ignore_ext:\n",
        "            all_files.append(os.path.join(root, filename))\n",
        "\n"
      ],
      "metadata": {
        "id": "EOyXtJF3ZxQ_"
      },
      "execution_count": 9,
      "outputs": []
    },
    {
      "cell_type": "code",
      "source": [
        "duplicates = {}\n",
        "\n",
        "# Duyệt file kèm progress bar\n",
        "for filepath in tqdm(all_files, desc=\"Đang kiểm tra\", unit=\"file\"):\n",
        "    filename = os.path.basename(filepath)\n",
        "    norm_name = normalize_filename(filename)\n",
        "\n",
        "    try:\n",
        "        file_md5 = file_hash(filepath)\n",
        "    except OSError as e:\n",
        "        print(f\"Bỏ qua {filepath}: {e}\")\n",
        "        continue\n",
        "\n",
        "    key = (norm_name, file_md5)\n",
        "    if key not in duplicates:\n",
        "        duplicates[key] = [filepath]\n",
        "    else:\n",
        "        duplicates[key].append(filepath)\n",
        "\n"
      ],
      "metadata": {
        "colab": {
          "base_uri": "https://localhost:8080/"
        },
        "id": "JZcU1qwCai32",
        "outputId": "2001d158-5839-4296-da9a-945723d416a7"
      },
      "execution_count": 10,
      "outputs": [
        {
          "output_type": "stream",
          "name": "stderr",
          "text": [
            "Đang kiểm tra: 100%|██████████| 3663/3663 [29:55<00:00,  2.04file/s]\n"
          ]
        }
      ]
    },
    {
      "cell_type": "code",
      "source": [
        "# In kết quả\n",
        "print(\"\\n==== Kết quả phát hiện file trùng ====\\n\")\n",
        "for key, paths in duplicates.items():\n",
        "    if len(paths) > 1:\n",
        "        print(\"Phát hiện file trùng:\")\n",
        "        for p in paths:\n",
        "            print(\"  \", p)\n",
        "        print(\"-\" * 50)"
      ],
      "metadata": {
        "id": "OsHBmGdTakYH"
      },
      "execution_count": null,
      "outputs": []
    },
    {
      "cell_type": "code",
      "source": [
        "# Xóa file trùng (giữ lại file đầu tiên)\n",
        "deleted_files = []\n",
        "for key, paths in duplicates.items():\n",
        "    if len(paths) > 1:\n",
        "        # Giữ lại file đầu tiên\n",
        "        keep = paths[0]\n",
        "        for p in paths[1:]:\n",
        "            try:\n",
        "                if os.path.exists(p):\n",
        "                    os.remove(p)\n",
        "                    deleted_files.append(p)\n",
        "                else:\n",
        "                    print(f\"Bỏ qua {p}: file không tồn tại\")\n",
        "            except Exception as e:\n",
        "                print(f\"Lỗi khi xóa {p}: {e}\")\n",
        "                continue  # bỏ qua và tiếp tục file khác\n",
        "\n",
        "# Thống kê cuối cùng\n",
        "total_files = len(all_files)\n",
        "duplicate_files = len(deleted_files)\n",
        "percent_dup = (duplicate_files / total_files) * 100 if total_files > 0 else 0\n",
        "\n",
        "print(\"\\n==== KẾT QUẢ ====\")\n",
        "print(f\"Tổng số file ban đầu : {total_files}\")\n",
        "print(f\"Số file đã xóa       : {duplicate_files}\")\n",
        "print(f\"Tỷ lệ file trùng     : {percent_dup:.2f}%\")\n",
        "\n",
        "if deleted_files:\n",
        "    print(\"\\nCác file đã bị xóa:\")\n",
        "    for f in deleted_files:\n",
        "        print(\"  \", f)\n",
        "else:\n",
        "    print(\"\\nKhông có file trùng để xóa.\")\n"
      ],
      "metadata": {
        "id": "Cc_wsT39letP"
      },
      "execution_count": null,
      "outputs": []
    }
  ]
}